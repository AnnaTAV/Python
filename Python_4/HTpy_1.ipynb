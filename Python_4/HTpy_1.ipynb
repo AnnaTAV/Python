{
 "cells": [
  {
   "cell_type": "markdown",
   "id": "5a675b03",
   "metadata": {},
   "source": [
    "## Условие 1"
   ]
  },
  {
   "cell_type": "markdown",
   "id": "8b9e35ba",
   "metadata": {},
   "source": [
    "На складе лежат разные фрукты в разном количестве.\n",
    "Нужно написать функцию, которая на вход принимает любое количество названий фруктов и их количество, а возвращает общее количество фруктов на складе"
   ]
  },
  {
   "cell_type": "code",
   "execution_count": 3,
   "id": "ce9ebc34",
   "metadata": {},
   "outputs": [
    {
     "name": "stdout",
     "output_type": "stream",
     "text": [
      "Количество фруктов на складе: 628\n"
     ]
    }
   ],
   "source": [
    "def count_fruits(**kwargs):\n",
    "        return(sum(kwargs.values()))\n",
    "\n",
    "print(\"Количество фруктов на складе:\", count_fruits(Banana = 20, orange = 500, apple = 40, pineapple = 3, pear = 45, mandarins = 20))"
   ]
  },
  {
   "cell_type": "markdown",
   "id": "0c613366",
   "metadata": {},
   "source": [
    "## Условие 2"
   ]
  },
  {
   "cell_type": "markdown",
   "id": "b0136655",
   "metadata": {},
   "source": [
    "Дан список с затратами на рекламу. Но в данных есть ошибки, некоторые затраты имеют отрицательную величину. Удалите такие значения из списка и посчитайте суммарные затраты\n",
    "[100, 125, -90, 345, 655, -1, 0, 200]\n",
    "Используйте list comprehensions"
   ]
  },
  {
   "cell_type": "code",
   "execution_count": 4,
   "id": "08da1874",
   "metadata": {},
   "outputs": [
    {
     "name": "stdout",
     "output_type": "stream",
     "text": [
      "Новый список: [100, 125, 345, 655, 0, 200]\n",
      "Суммарные затраты: 1425\n"
     ]
    }
   ],
   "source": [
    "old_list = [100, 125, -90, 345, 655, -1, 0, 200]\n",
    "new_list = [c for c in old_list if c >= 0]\n",
    "print(\"Новый список:\", new_list)\n",
    "sum_num_list = sum(new_list)\n",
    "print(\"Суммарные затраты:\", sum_num_list)"
   ]
  },
  {
   "cell_type": "markdown",
   "id": "3c24c426",
   "metadata": {},
   "source": [
    "## Условие 3"
   ]
  },
  {
   "cell_type": "markdown",
   "id": "6e6ef8af",
   "metadata": {},
   "source": [
    "Даны два списка.\n",
    "\n",
    "Дата покупки\n",
    "\n",
    "['2021-09-14', '2021-12-15', '2021-09-08', '2021-12-05', '2021-10-09', '2021-09-30', '2021-12-22', '2021-11-29', '2021-12-24', '2021-11-26', '2021-10-27', '2021-12-18', '2021-11-09', '2021-11-23', '2021-09-27', '2021-10-02', '2021-12-27', '2021-09-20', '2021-12-13', '2021-11-01', '2021-11-09', '2021-12-06', '2021-12-08', '2021-10-09', '2021-10-31', '2021-09-30', '2021-11-09', '2021-12-13', '2021-10-26', '2021-12-09']\n",
    "\n",
    "Суммы покупок по датам\n",
    "\n",
    "[1270, 8413, 9028, 3703, 5739, 4095, 295, 4944, 5723, 3701, 4471, 651, 7037, 4274, 6275, 4988, 6930, 2971, 6592, 2004, 2822, 519, 3406, 2732, 5015, 2008, 316, 6333, 5700, 2887]"
   ]
  },
  {
   "cell_type": "markdown",
   "id": "6fbf57c0",
   "metadata": {},
   "source": [
    "### Условие 3.1"
   ]
  },
  {
   "cell_type": "markdown",
   "id": "18462872",
   "metadata": {},
   "source": [
    "Найдите, какая выручка у компании в ноябре.\n",
    "Используйте list comprehensions"
   ]
  },
  {
   "cell_type": "code",
   "execution_count": 5,
   "id": "301a801f",
   "metadata": {},
   "outputs": [
    {
     "name": "stdout",
     "output_type": "stream",
     "text": [
      "Выручка компании в ноябре: 25098\n"
     ]
    }
   ],
   "source": [
    "data_pay = ['2021-09-14', '2021-12-15', '2021-09-08', '2021-12-05', '2021-10-09', '2021-09-30', '2021-12-22', '2021-11-29', '2021-12-24', '2021-11-26', '2021-10-27', '2021-12-18', '2021-11-09', '2021-11-23', '2021-09-27', '2021-10-02', '2021-12-27', '2021-09-20', '2021-12-13', '2021-11-01', '2021-11-09', '2021-12-06', '2021-12-08', '2021-10-09', '2021-10-31', '2021-09-30', '2021-11-09', '2021-12-13', '2021-10-26', '2021-12-09'] \n",
    "sum_pay = [1270, 8413, 9028, 3703, 5739, 4095, 295, 4944, 5723, 3701, 4471, 651, 7037, 4274, 6275, 4988, 6930, 2971, 6592, 2004, 2822, 519, 3406, 2732, 5015, 2008, 316, 6333, 5700, 2887]\n",
    "result = [sum_pay[i] for i in range(len(data_pay)) if data_pay[i].split(\"-\")[1] == \"11\"]\n",
    "print(\"Выручка компании в ноябре:\", sum(result))"
   ]
  },
  {
   "cell_type": "markdown",
   "id": "db6d044e",
   "metadata": {},
   "source": [
    "### Условие 3.2"
   ]
  },
  {
   "cell_type": "markdown",
   "id": "adef5729",
   "metadata": {},
   "source": [
    "Найдите выручку компании в зависимости от месяца.\n",
    "Для этого напишите функцию, которая на вход принимает список с датами и список с выручкой, а на выходе словарь, где ключи - это месяцы, а значения - это выручка.\n",
    "Используйте аннотирование типов."
   ]
  },
  {
   "cell_type": "code",
   "execution_count": 6,
   "id": "64ef3ec0",
   "metadata": {},
   "outputs": [
    {
     "name": "stdout",
     "output_type": "stream",
     "text": [
      "Выручка компании в зависимости от месяца: {9: 25647, 12: 45452, 10: 28645, 11: 25098}\n"
     ]
    }
   ],
   "source": [
    "def revenue_month(date_: list, revenue: list) -> dict:\n",
    "    dict_ = {}\n",
    "    for i in range(len(date_)):\n",
    "        dict_[int(date_[i].split('-')[1])] = dict_.get(int(date_[i].split('-')[1]),0) + revenue[i]\n",
    "    return dict_\n",
    "print(\"Выручка компании в зависимости от месяца:\", revenue_month(data_pay, sum_pay))"
   ]
  },
  {
   "cell_type": "code",
   "execution_count": null,
   "id": "6279af03",
   "metadata": {},
   "outputs": [],
   "source": []
  }
 ],
 "metadata": {
  "kernelspec": {
   "display_name": "Python 3 (ipykernel)",
   "language": "python",
   "name": "python3"
  },
  "language_info": {
   "codemirror_mode": {
    "name": "ipython",
    "version": 3
   },
   "file_extension": ".py",
   "mimetype": "text/x-python",
   "name": "python",
   "nbconvert_exporter": "python",
   "pygments_lexer": "ipython3",
   "version": "3.10.7"
  }
 },
 "nbformat": 4,
 "nbformat_minor": 5
}
