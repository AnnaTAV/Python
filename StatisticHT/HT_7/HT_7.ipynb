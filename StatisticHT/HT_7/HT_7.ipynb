{
  "metadata": {
    "language_info": {
      "codemirror_mode": {
        "name": "python",
        "version": 3
      },
      "file_extension": ".py",
      "mimetype": "text/x-python",
      "name": "python",
      "nbconvert_exporter": "python",
      "pygments_lexer": "ipython3",
      "version": "3.8"
    },
    "kernelspec": {
      "name": "python",
      "display_name": "Python (Pyodide)",
      "language": "python"
    }
  },
  "nbformat_minor": 4,
  "nbformat": 4,
  "cells": [
    {
      "cell_type": "markdown",
      "source": "1-4 задачи решать с помощью функций, 5ю вручную\nВыберете тест и проверьте, есть ли различия между выборками:\n\n1 ) Даны две независимые выборки. Не соблюдается условие нормальности\nx1 380,420, 290\ny1 140,360,200,900\nСделайте вывод по результатам, полученным с помощью функции",
      "metadata": {}
    },
    {
      "cell_type": "code",
      "source": "import numpy as np\nimport scipy.stats as stats\nx1 = np.array([380, 420, 290])\ny1 = np.array([140, 360, 200, 900])\n\nstats.mannwhitneyu(x1, y1)",
      "metadata": {
        "trusted": true
      },
      "execution_count": 1,
      "outputs": [
        {
          "execution_count": 1,
          "output_type": "execute_result",
          "data": {
            "text/plain": "MannwhitneyuResult(statistic=8.0, pvalue=0.6285714285714286)"
          },
          "metadata": {}
        }
      ]
    },
    {
      "cell_type": "markdown",
      "source": "pvalue > alpha, H0 - не отвергается с ошибкой alpha = 0.05, выборки статистически одинаковые",
      "metadata": {}
    },
    {
      "cell_type": "markdown",
      "source": "2 ) Исследовалось влияние препарата на уровень давления пациентов. Сначала измерялось давление до приема препарата, потом через 10 минут и через 30 минут. Есть ли статистически значимые различия?\n1е измерение до приема препарата: 150, 160, 165, 145, 155\n2е измерение через 10 минут: 140, 155, 150, 130, 135\n3е измерение через 30 минут: 130, 130, 120, 130, 125",
      "metadata": {}
    },
    {
      "cell_type": "code",
      "source": "x1 = np.array([150, 160, 165, 145, 155])\nx2 = np.array([140, 155, 150, 130, 135])\nx3 = np.array([130, 130, 120, 130, 125])\n\nstats.friedmanchisquare(x1, x2, x3)",
      "metadata": {
        "trusted": true
      },
      "execution_count": 2,
      "outputs": [
        {
          "execution_count": 2,
          "output_type": "execute_result",
          "data": {
            "text/plain": "FriedmanchisquareResult(statistic=9.578947368421062, pvalue=0.00831683351100441)"
          },
          "metadata": {}
        }
      ]
    },
    {
      "cell_type": "markdown",
      "source": "pvalue < alpha, H0 - отвергается с ошибкой alpha = 0.05, принимается гипотиза Н1 - различия есть.\nПрепарат работает.",
      "metadata": {}
    },
    {
      "cell_type": "markdown",
      "source": "3 ) Сравните 1 и 2 е измерения, предполагая, что 3го измерения через 30 минут не было.",
      "metadata": {}
    },
    {
      "cell_type": "code",
      "source": "x1 = np.array([150, 160, 165, 145, 155])\nx2 = np.array([140, 155, 150, 130, 135])\n\nstats.wilcoxon(x1, x2)",
      "metadata": {
        "trusted": true
      },
      "execution_count": 3,
      "outputs": [
        {
          "execution_count": 3,
          "output_type": "execute_result",
          "data": {
            "text/plain": "WilcoxonResult(statistic=0.0, pvalue=0.0625)"
          },
          "metadata": {}
        }
      ]
    },
    {
      "cell_type": "markdown",
      "source": "Cтатистически значимых различий не обнаружено на уровне значимости alpha = 0.05.\nПрепарат не работает.",
      "metadata": {}
    },
    {
      "cell_type": "markdown",
      "source": "4)Даны 3 группы учеников плавания.\nВ 1 группе время на дистанцию 50 м составляют:\n56, 60, 62, 55, 71, 67, 59, 58, 64, 67\nВторая группа : 57, 58, 69, 48, 72, 70, 68, 71, 50, 53\nТретья группа: 57, 67, 49, 48, 47, 55, 66, 51, 54",
      "metadata": {}
    },
    {
      "cell_type": "code",
      "source": "x1 = np.array([56, 60, 62, 55, 71, 67, 59, 58, 64, 67])\nx2 = np.array([57, 58, 69, 48, 72, 70, 68, 71, 50, 53])\nx3 = np.array([57, 67, 49, 48, 47, 55, 66, 51, 54])\n\nstats.kruskal(x1, x2, x3)",
      "metadata": {
        "trusted": true
      },
      "execution_count": 4,
      "outputs": [
        {
          "execution_count": 4,
          "output_type": "execute_result",
          "data": {
            "text/plain": "KruskalResult(statistic=5.465564058257224, pvalue=0.0650380998590494)"
          },
          "metadata": {}
        }
      ]
    },
    {
      "cell_type": "markdown",
      "source": "pvalue > alpha, H0 - не отвергается с ошибкой alpha = 0.05, различий нет, группы статистически равны",
      "metadata": {}
    },
    {
      "cell_type": "markdown",
      "source": "5)Заявляется, что партия изготавливается со средним арифметическим 2,5 см. Проверить данную гипотезу, если известно, что размеры изделий подчинены нормальному закону распределения. Объем выборки 10, уровень статистической значимости 5%\n2.51, 2.35, 2.74, 2.56, 2.40, 2.36, 2.65, 2.7, 2.67, 2.34",
      "metadata": {}
    },
    {
      "cell_type": "code",
      "source": "X = np.array([2.51, 2.35, 2.74, 2.56, 2.40, 2.36, 2.65, 2.7, 2.67, 2.34])\n\nmean = X.mean()\nstd = X.std(ddof=1)\n\nt_fact = (mean - 2.5) / std * np.sqrt(len(X))\nprint(t_fact)",
      "metadata": {
        "trusted": true
      },
      "execution_count": 5,
      "outputs": [
        {
          "name": "stdout",
          "text": "0.563061366180296\n",
          "output_type": "stream"
        }
      ]
    },
    {
      "cell_type": "markdown",
      "source": "По таблице для критерия Стьюдента находим t = 1.833 (для = 0.05 и 9 степенями свободы).\nТак как t > t_fact (1.833 > 0.56), то гипотеза верна и изделия соответствуют заявленному размеру.",
      "metadata": {}
    },
    {
      "cell_type": "code",
      "source": "n = 10\nm = 2.5\n\nt = stats.t.ppf(0.975, 9)\nprint(f\"t теор = {t:.2f}\")\n\nt = (mean - m) * np.sqrt(n) / std\nprint(f\"t рассч = {t:.3f}\")",
      "metadata": {
        "trusted": true
      },
      "execution_count": 6,
      "outputs": [
        {
          "name": "stdout",
          "text": "t теор = 2.26\nt рассч = 0.563\n",
          "output_type": "stream"
        }
      ]
    },
    {
      "cell_type": "markdown",
      "source": "так как t теор > t рассч, считаем что нулевая гипотеза верна",
      "metadata": {}
    }
  ]
}